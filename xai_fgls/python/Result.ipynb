{
 "cells": [
  {
   "cell_type": "code",
   "execution_count": 1,
   "metadata": {},
   "outputs": [],
   "source": [
    "import matplotlib.pyplot as plt\n",
    "import numpy\n",
    "import time\n",
    "import numpy as np\n",
    "import importlib.util as imp\n",
    "if imp.find_spec(\"cupy\"): #use cupy for GPU support if available\n",
    "    import cupy\n",
    "    import cupy as np\n",
    "    print (\"ok\")\n",
    "\n",
    "from tootorch.dataload import mnist_load\n",
    "from tootorch.utils import seed_everything, get_samples, ModelTrain\n",
    "import model_io\n",
    "import data_io\n",
    "import render\n",
    "import statsmodels.api as sm\n",
    "import torch\n",
    "# from torchvision import models\n",
    "from torchvision import models\n",
    "from torchsummary import summary\n",
    "from config import *\n",
    "from tqdm import tqdm\n",
    "import pickle"
   ]
  },
  {
   "cell_type": "code",
   "execution_count": 2,
   "metadata": {},
   "outputs": [],
   "source": [
    "import modules\n",
    "\n",
    "\n",
    "import os, math, collections\n",
    "\n",
    "import tensorflow as tf\n",
    "# logger = get_logger(os.path.basename(__file__))\n",
    "np.random.seed(42)"
   ]
  },
  {
   "cell_type": "code",
   "execution_count": 3,
   "metadata": {},
   "outputs": [],
   "source": [
    "def unpickle(file):\n",
    "    \n",
    "    with open(file, 'rb') as fo:\n",
    "        \n",
    "        dict = pickle.load(fo, encoding='bytes')\n",
    "    \n",
    "    return dict"
   ]
  },
  {
   "cell_type": "code",
   "execution_count": 4,
   "metadata": {},
   "outputs": [],
   "source": [
    "def save(dataset, file):\n",
    "    \n",
    "    with open(file, 'wb') as fo:\n",
    "        \n",
    "        pickle.dump(dataset, fo)\n"
   ]
  },
  {
   "cell_type": "code",
   "execution_count": 5,
   "metadata": {},
   "outputs": [],
   "source": [
    "def get_savedir():\n",
    "        \n",
    "    savedir = logdir.replace('tf_logs', 'KAR')\n",
    "\n",
    "    if not os.path.exists(savedir):\n",
    "\n",
    "        os.makedirs(savedir)\n",
    "\n",
    "    return savedir"
   ]
  },
  {
   "cell_type": "code",
   "execution_count": 6,
   "metadata": {},
   "outputs": [],
   "source": [
    "def scale(x):\n",
    "    \n",
    "    return x / 127.5 - 1.0"
   ]
  },
  {
   "cell_type": "code",
   "execution_count": 7,
   "metadata": {},
   "outputs": [],
   "source": [
    "logdir = 'tf_logs/standard/'"
   ]
  },
  {
   "cell_type": "code",
   "execution_count": 8,
   "metadata": {},
   "outputs": [
    {
     "name": "stdout",
     "output_type": "stream",
     "text": [
      "loading np-formatted data from ../data/MNIST/test_images.npy\n",
      "loading np-formatted data from ../data/MNIST/test_labels.npy\n"
     ]
    }
   ],
   "source": [
    "Xtest = data_io.read('../data/MNIST/test_images.npy')\n",
    "Ytest = data_io.read('../data/MNIST/test_labels.npy')\n",
    "Xtest = np.reshape(Xtest,[Xtest.shape[0],28,28,1])\n",
    "Xtest = np.pad(Xtest,((0,0),(2,2),(2,2),(0,0)), 'constant', constant_values = (-1.,))"
   ]
  },
  {
   "cell_type": "code",
   "execution_count": 9,
   "metadata": {},
   "outputs": [
    {
     "data": {
      "text/plain": [
       "(10000, 32, 32, 1)"
      ]
     },
     "execution_count": 9,
     "metadata": {},
     "output_type": "execute_result"
    }
   ],
   "source": [
    "Xtest.shape"
   ]
  },
  {
   "cell_type": "code",
   "execution_count": 77,
   "metadata": {},
   "outputs": [],
   "source": [
    "Xtest = scale(Xtest)"
   ]
  },
  {
   "cell_type": "code",
   "execution_count": 78,
   "metadata": {},
   "outputs": [],
   "source": [
    "x = Xtest[1:2,...]"
   ]
  },
  {
   "cell_type": "code",
   "execution_count": 79,
   "metadata": {},
   "outputs": [
    {
     "name": "stdout",
     "output_type": "stream",
     "text": [
      "KAR/standard/train_proposed_method_0.0.pickle\n"
     ]
    }
   ],
   "source": [
    "occdir = get_savedir() + '{}_{}_{}.pickle'.format('train', 'proposed_method', '0.0')\n",
    "occdir_y = get_savedir() + '{}_{}_{}_{}.pickle'.format('train', 'proposed_method', '0.0','label')\n",
    "data_train = unpickle(occdir)\n",
    "data_train_y = unpickle(occdir_y)\n",
    "print(occdir)"
   ]
  },
  {
   "cell_type": "code",
   "execution_count": 80,
   "metadata": {},
   "outputs": [],
   "source": [
    "X = np.array(data_train)\n",
    "Y = np.array(data_train_y)"
   ]
  },
  {
   "cell_type": "code",
   "execution_count": 81,
   "metadata": {},
   "outputs": [
    {
     "name": "stdout",
     "output_type": "stream",
     "text": [
      "KAR/standard/train_proposed_method_0.1.pickle\n"
     ]
    }
   ],
   "source": [
    "occdir = get_savedir() + '{}_{}_{}.pickle'.format('train', 'proposed_method', '0.1')\n",
    "occdir_y = get_savedir() + '{}_{}_{}_{}.pickle'.format('train', 'proposed_method', '0.1','label')\n",
    "data_train = unpickle(occdir)\n",
    "data_train_y = unpickle(occdir_y)\n",
    "print(occdir)"
   ]
  },
  {
   "cell_type": "code",
   "execution_count": 82,
   "metadata": {},
   "outputs": [],
   "source": [
    "X1 = np.array(data_train)\n",
    "Y1 = np.array(data_train_y)"
   ]
  },
  {
   "cell_type": "code",
   "execution_count": 83,
   "metadata": {},
   "outputs": [
    {
     "name": "stdout",
     "output_type": "stream",
     "text": [
      "KAR/standard/train_proposed_method_0.5.pickle\n"
     ]
    }
   ],
   "source": [
    "occdir = get_savedir() + '{}_{}_{}.pickle'.format('train', 'proposed_method', '0.5')\n",
    "occdir_y = get_savedir() + '{}_{}_{}_{}.pickle'.format('train', 'proposed_method', '0.5','label')\n",
    "data_train = unpickle(occdir)\n",
    "data_train_y = unpickle(occdir_y)\n",
    "print(occdir)"
   ]
  },
  {
   "cell_type": "code",
   "execution_count": 84,
   "metadata": {},
   "outputs": [],
   "source": [
    "XR = np.array(data_train)\n",
    "YR = np.array(data_train_y)"
   ]
  },
  {
   "cell_type": "code",
   "execution_count": 85,
   "metadata": {},
   "outputs": [
    {
     "name": "stdout",
     "output_type": "stream",
     "text": [
      "KAR/standard/train_proposed_method_0.9.pickle\n"
     ]
    }
   ],
   "source": [
    "occdir = get_savedir() + '{}_{}_{}.pickle'.format('train', 'proposed_method', '0.9')\n",
    "occdir_y = get_savedir() + '{}_{}_{}_{}.pickle'.format('train', 'proposed_method', '0.9','label')\n",
    "data_train = unpickle(occdir)\n",
    "data_train_y = unpickle(occdir_y)\n",
    "print(occdir)"
   ]
  },
  {
   "cell_type": "code",
   "execution_count": 86,
   "metadata": {},
   "outputs": [],
   "source": [
    "XP = np.array(data_train)\n",
    "YP = np.array(data_train_y)"
   ]
  },
  {
   "cell_type": "code",
   "execution_count": 87,
   "metadata": {},
   "outputs": [
    {
     "name": "stdout",
     "output_type": "stream",
     "text": [
      "loading pickled model from ../models/MNIST/LeNet-5.nn\n"
     ]
    }
   ],
   "source": [
    "nn = model_io.read('../models/MNIST/LeNet-5.nn')"
   ]
  },
  {
   "cell_type": "code",
   "execution_count": 88,
   "metadata": {},
   "outputs": [
    {
     "data": {
      "text/plain": [
       "-255.0"
      ]
     },
     "execution_count": 88,
     "metadata": {},
     "output_type": "execute_result"
    }
   ],
   "source": [
    "check = XR[1:1+1,...]\n",
    "check.min()"
   ]
  },
  {
   "cell_type": "code",
   "execution_count": 58,
   "metadata": {},
   "outputs": [
    {
     "name": "stdout",
     "output_type": "stream",
     "text": [
      "True Class:      5\n",
      "Predicted Class: 5 \n",
      "\n",
      "True Class:      5\n",
      "Predicted Class: 5 \n",
      "\n",
      "True Class:      5\n",
      "Predicted Class: 5 \n",
      "\n",
      "True Class:      5\n",
      "Predicted Class: 5 \n",
      "\n",
      "(96, 96, 3)\n",
      "(96, 96, 3)\n",
      "(96, 96, 3)\n",
      "(96, 96, 3)\n",
      "saving image to  ../test.png\n"
     ]
    },
    {
     "data": {
      "image/png": "[encoded data removed]",
      "text/plain": [
       "<Figure size 432x288 with 1 Axes>"
      ]
     },
     "metadata": {
      "needs_background": "light"
     },
     "output_type": "display_data"
    },
    {
     "name": "stdout",
     "output_type": "stream",
     "text": [
      "True Class:      0\n",
      "Predicted Class: 0 \n",
      "\n",
      "True Class:      0\n",
      "Predicted Class: 0 \n",
      "\n",
      "True Class:      0\n",
      "Predicted Class: 0 \n",
      "\n",
      "True Class:      0\n",
      "Predicted Class: 0 \n",
      "\n",
      "(96, 96, 3)\n",
      "(96, 96, 3)\n",
      "(96, 96, 3)\n",
      "(96, 96, 3)\n",
      "saving image to  ../test.png\n"
     ]
    },
    {
     "data": {
      "image/png": "[encoded data removed]",
      "text/plain": [
       "<Figure size 432x288 with 1 Axes>"
      ]
     },
     "metadata": {
      "needs_background": "light"
     },
     "output_type": "display_data"
    },
    {
     "name": "stdout",
     "output_type": "stream",
     "text": [
      "True Class:      4\n",
      "Predicted Class: 4 \n",
      "\n",
      "True Class:      4\n",
      "Predicted Class: 9 \n",
      "\n",
      "True Class:      4\n",
      "Predicted Class: 9 \n",
      "\n",
      "True Class:      4\n",
      "Predicted Class: 9 \n",
      "\n",
      "(96, 96, 3)\n",
      "(96, 96, 3)\n",
      "(96, 96, 3)\n",
      "(96, 96, 3)\n",
      "saving image to  ../test.png\n"
     ]
    },
    {
     "data": {
      "image/png": "[encoded data removed]",
      "text/plain": [
       "<Figure size 432x288 with 1 Axes>"
      ]
     },
     "metadata": {
      "needs_background": "light"
     },
     "output_type": "display_data"
    },
    {
     "name": "stdout",
     "output_type": "stream",
     "text": [
      "True Class:      1\n",
      "Predicted Class: 1 \n",
      "\n",
      "True Class:      1\n",
      "Predicted Class: 8 \n",
      "\n",
      "True Class:      1\n",
      "Predicted Class: 2 \n",
      "\n",
      "True Class:      1\n",
      "Predicted Class: 1 \n",
      "\n",
      "(96, 96, 3)\n",
      "(96, 96, 3)\n",
      "(96, 96, 3)\n",
      "(96, 96, 3)\n",
      "saving image to  ../test.png\n"
     ]
    },
    {
     "data": {
      "image/png": "[encoded data removed]",
      "text/plain": [
       "<Figure size 432x288 with 1 Axes>"
      ]
     },
     "metadata": {
      "needs_background": "light"
     },
     "output_type": "display_data"
    },
    {
     "name": "stdout",
     "output_type": "stream",
     "text": [
      "True Class:      9\n",
      "Predicted Class: 9 \n",
      "\n",
      "True Class:      9\n",
      "Predicted Class: 8 \n",
      "\n",
      "True Class:      9\n",
      "Predicted Class: 9 \n",
      "\n",
      "True Class:      9\n",
      "Predicted Class: 9 \n",
      "\n",
      "(96, 96, 3)\n",
      "(96, 96, 3)\n",
      "(96, 96, 3)\n",
      "(96, 96, 3)\n",
      "saving image to  ../test.png\n"
     ]
    },
    {
     "data": {
      "image/png": "[encoded data removed]",
      "text/plain": [
       "<Figure size 432x288 with 1 Axes>"
      ]
     },
     "metadata": {
      "needs_background": "light"
     },
     "output_type": "display_data"
    }
   ],
   "source": [
    "for i in range(5):\n",
    "    x = X[i:i+1,...]\n",
    "#     y = Y[i:i+1,...]\n",
    "    x1 = X1[i:i+1,...]\n",
    "#     y = Y[i:i+1,...]\n",
    "    xr = XR[i:i+1,...]\n",
    "#     yr = YR[i:i+1,...]\n",
    "    xp = XP[i:i+1,...]\n",
    "#     yp = YP[i:i+1,...]\n",
    "    ypred = nn.forward(x)\n",
    "    print('True Class:     ', np.argmax(Y[i]))\n",
    "    print('Predicted Class:', np.argmax(ypred),'\\n')\n",
    "    ypred = nn.forward(x1)\n",
    "    print('True Class:     ', np.argmax(Y1[i]))\n",
    "    print('Predicted Class:', np.argmax(ypred),'\\n')\n",
    "    ypred = nn.forward(xr)\n",
    "    print('True Class:     ', np.argmax(YR[i]))\n",
    "    print('Predicted Class:', np.argmax(ypred),'\\n')\n",
    "    ypred = nn.forward(xp)\n",
    "    print('True Class:     ', np.argmax(YP[i]))\n",
    "    print('Predicted Class:', np.argmax(ypred),'\\n')\n",
    "    \n",
    "    digit = render.digit_to_rgb(x, scaling = 3)\n",
    "    print(digit.shape)\n",
    "    digit1 = render.digit_to_rgb(x1, scaling = 3)\n",
    "    print(digit.shape)\n",
    "    Rdigit = render.digit_to_rgb(xr, scaling = 3)\n",
    "    print(Rdigit.shape)\n",
    "    prdigit = render.digit_to_rgb(xp, scaling = 3)\n",
    "    print(prdigit.shape)\n",
    "#     hm = render.hm_to_rgb(r, X = x, scaling = 3, sigma = 2)\n",
    "    test_image = render.save_image([digit, digit1, Rdigit, prdigit],'../test.png')\n",
    "    plt.imshow(test_image, interpolation = 'none')\n",
    "    plt.axis('off')\n",
    "    plt.show()"
   ]
  },
  {
   "cell_type": "code",
   "execution_count": null,
   "metadata": {},
   "outputs": [],
   "source": []
  },
  {
   "cell_type": "code",
   "execution_count": null,
   "metadata": {},
   "outputs": [],
   "source": []
  },
  {
   "cell_type": "code",
   "execution_count": null,
   "metadata": {},
   "outputs": [],
   "source": []
  },
  {
   "cell_type": "code",
   "execution_count": null,
   "metadata": {},
   "outputs": [],
   "source": []
  },
  {
   "cell_type": "code",
   "execution_count": null,
   "metadata": {},
   "outputs": [],
   "source": []
  },
  {
   "cell_type": "code",
   "execution_count": null,
   "metadata": {},
   "outputs": [],
   "source": []
  },
  {
   "cell_type": "code",
   "execution_count": null,
   "metadata": {},
   "outputs": [],
   "source": []
  },
  {
   "cell_type": "code",
   "execution_count": null,
   "metadata": {},
   "outputs": [],
   "source": []
  },
  {
   "cell_type": "code",
   "execution_count": null,
   "metadata": {},
   "outputs": [],
   "source": []
  },
  {
   "cell_type": "code",
   "execution_count": null,
   "metadata": {},
   "outputs": [],
   "source": []
  },
  {
   "cell_type": "code",
   "execution_count": null,
   "metadata": {},
   "outputs": [],
   "source": []
  },
  {
   "cell_type": "code",
   "execution_count": null,
   "metadata": {},
   "outputs": [],
   "source": []
  }
 ],
 "metadata": {
  "kernelspec": {
   "display_name": "xai",
   "language": "python",
   "name": "xai"
  },
  "language_info": {
   "codemirror_mode": {
    "name": "ipython",
    "version": 3
   },
   "file_extension": ".py",
   "mimetype": "text/x-python",
   "name": "python",
   "nbconvert_exporter": "python",
   "pygments_lexer": "ipython3",
   "version": "3.7.3"
  }
 },
 "nbformat": 4,
 "nbformat_minor": 4
}
